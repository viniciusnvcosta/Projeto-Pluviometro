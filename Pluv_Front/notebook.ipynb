{
 "cells": [
  {
   "cell_type": "code",
   "execution_count": 3,
   "metadata": {},
   "outputs": [],
   "source": [
    "import firebase_admin\n",
    "from firebase_admin import firestore,db\n",
    "import pandas as pd\n",
    "import collections\n",
    "from datetime import datetime as dt"
   ]
  },
  {
   "cell_type": "code",
   "execution_count": 12,
   "metadata": {},
   "outputs": [
    {
     "data": {
      "text/plain": [
       "<firebase_admin.App at 0x2d3503a3ee0>"
      ]
     },
     "execution_count": 12,
     "metadata": {},
     "output_type": "execute_result"
    }
   ],
   "source": [
    "\n",
    "\n",
    "cred = firebase_admin.credentials.Certificate('projeto-pluviometro-58413fbabcd4.json')\n",
    "firebase_admin.initialize_app(cred,{'databaseURL':'https://projeto-pluviometro-default-rtdb.firebaseio.com'})"
   ]
  },
  {
   "cell_type": "code",
   "execution_count": null,
   "metadata": {},
   "outputs": [],
   "source": [
    "ref = db.reference('/').get()\n",
    "ref"
   ]
  },
  {
   "cell_type": "code",
   "execution_count": 18,
   "metadata": {},
   "outputs": [
    {
     "data": {
      "text/plain": [
       "0    (2022-11-29 22:13:33.186417, 50)\n",
       "1    (2022-11-29 22:13:33.411029, 50)\n",
       "2    (2022-11-29 22:13:33.646922, 50)\n",
       "3    (2022-11-29 22:13:33.872804, 50)\n",
       "4    (2022-11-29 22:13:34.099806, 50)\n",
       "dtype: object"
      ]
     },
     "execution_count": 18,
     "metadata": {},
     "output_type": "execute_result"
    }
   ],
   "source": [
    "pd.Series(buffer)"
   ]
  },
  {
   "cell_type": "code",
   "execution_count": null,
   "metadata": {},
   "outputs": [],
   "source": [
    "buffer = collections.deque(maxlen=5)\n",
    "\n",
    "while True:\n",
    "    buffer += [(dt.now(),db.reference('/').get()['PRECIP'])]"
   ]
  },
  {
   "cell_type": "code",
   "execution_count": 31,
   "metadata": {},
   "outputs": [
    {
     "data": {
      "text/plain": [
       "[15, 16, 17, 18, 19]"
      ]
     },
     "execution_count": 31,
     "metadata": {},
     "output_type": "execute_result"
    }
   ],
   "source": [
    "buffer = collections.deque(maxlen=5)\n",
    "\n",
    "for i in range(20):\n",
    "    buffer.append(i)\n",
    "\n",
    "list(buffer)"
   ]
  },
  {
   "cell_type": "code",
   "execution_count": 33,
   "metadata": {},
   "outputs": [
    {
     "data": {
      "text/plain": [
       "deque([{'AVISO': False, 'LED': True, 'PRECIP': 50},\n",
       "       {'AVISO': False, 'LED': True, 'PRECIP': 50},\n",
       "       {'AVISO': False, 'LED': True, 'PRECIP': 50},\n",
       "       {'AVISO': False, 'LED': True, 'PRECIP': 50},\n",
       "       {'AVISO': False, 'LED': True, 'PRECIP': 50}])"
      ]
     },
     "execution_count": 33,
     "metadata": {},
     "output_type": "execute_result"
    }
   ],
   "source": [
    "buffer"
   ]
  },
  {
   "cell_type": "code",
   "execution_count": 4,
   "metadata": {},
   "outputs": [
    {
     "data": {
      "text/plain": [
       "'2022-11-29 21:30:28'"
      ]
     },
     "execution_count": 4,
     "metadata": {},
     "output_type": "execute_result"
    }
   ],
   "source": [
    "data = dt.now().strftime('%Y-%m-%d %H:%M:%S')\n",
    "data"
   ]
  },
  {
   "cell_type": "code",
   "execution_count": 10,
   "metadata": {},
   "outputs": [
    {
     "data": {
      "text/plain": [
       "[3, 4, 5, 6, 1]"
      ]
     },
     "execution_count": 10,
     "metadata": {},
     "output_type": "execute_result"
    }
   ],
   "source": [
    "buffer = collections.deque([1,2,3,4,5,6],maxlen=5)\n",
    "buffer += [1]\n",
    "list(buffer)"
   ]
  },
  {
   "cell_type": "code",
   "execution_count": null,
   "metadata": {},
   "outputs": [],
   "source": []
  }
 ],
 "metadata": {
  "kernelspec": {
   "display_name": "Python 3.10.1 ('env': venv)",
   "language": "python",
   "name": "python3"
  },
  "language_info": {
   "codemirror_mode": {
    "name": "ipython",
    "version": 3
   },
   "file_extension": ".py",
   "mimetype": "text/x-python",
   "name": "python",
   "nbconvert_exporter": "python",
   "pygments_lexer": "ipython3",
   "version": "3.10.1"
  },
  "orig_nbformat": 4,
  "vscode": {
   "interpreter": {
    "hash": "00bace050ae501c89f4adddcf0ba98fb91dcbd0073f089273fd670bbd136123b"
   }
  }
 },
 "nbformat": 4,
 "nbformat_minor": 2
}
